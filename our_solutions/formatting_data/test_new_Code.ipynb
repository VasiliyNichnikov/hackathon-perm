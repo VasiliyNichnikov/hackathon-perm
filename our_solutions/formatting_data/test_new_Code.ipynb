{
 "cells": [
  {
   "cell_type": "code",
   "execution_count": 1,
   "metadata": {
    "collapsed": true,
    "ExecuteTime": {
     "end_time": "2023-10-28T10:58:34.618079Z",
     "start_time": "2023-10-28T10:58:34.570208300Z"
    }
   },
   "outputs": [
    {
     "data": {
      "text/plain": "<generator object _walk at 0x000001F8D4F90430>"
     },
     "execution_count": 1,
     "metadata": {},
     "output_type": "execute_result"
    }
   ],
   "source": [
    "from our_solutions.paths import get_path_to_input_data\n",
    "import os\n"
   ]
  },
  {
   "cell_type": "code",
   "execution_count": 14,
   "outputs": [
    {
     "name": "stdout",
     "output_type": "stream",
     "text": [
      "C:\\Users\\filip\\PycharmProjects\\hackathon-perm\\our_solutions\\our_solutions/static/input_data/\n"
     ]
    }
   ],
   "source": [
    "print(get_path_to_input_data())\n",
    "for root, dirs, files in os.walk(get_path_to_input_data()):\n",
    "    print(root, 'root')\n",
    "    print(dirs, 'dirs')"
   ],
   "metadata": {
    "collapsed": false,
    "ExecuteTime": {
     "end_time": "2023-10-28T11:02:36.147889300Z",
     "start_time": "2023-10-28T11:02:36.129937500Z"
    }
   }
  }
 ],
 "metadata": {
  "kernelspec": {
   "display_name": "Python 3",
   "language": "python",
   "name": "python3"
  },
  "language_info": {
   "codemirror_mode": {
    "name": "ipython",
    "version": 2
   },
   "file_extension": ".py",
   "mimetype": "text/x-python",
   "name": "python",
   "nbconvert_exporter": "python",
   "pygments_lexer": "ipython2",
   "version": "2.7.6"
  }
 },
 "nbformat": 4,
 "nbformat_minor": 0
}
